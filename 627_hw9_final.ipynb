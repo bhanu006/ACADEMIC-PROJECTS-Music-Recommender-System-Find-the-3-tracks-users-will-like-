{
 "cells": [
  {
   "cell_type": "markdown",
   "metadata": {},
   "source": [
    "# Team : RRR\n",
    "## Team Members\n",
    "##  Name_1: Sushanth Puligilla\n",
    "##  Name_2: Bhanoday sakamuri\n",
    "##  Name_3: Manikumar Vajji"
   ]
  },
  {
   "cell_type": "markdown",
   "metadata": {},
   "source": [
    "\n",
    "\n",
    "## Q1."
   ]
  },
  {
   "cell_type": "code",
   "execution_count": 168,
   "metadata": {},
   "outputs": [
    {
     "data": {
      "text/html": [
       "<div>\n",
       "<style scoped>\n",
       "    .dataframe tbody tr th:only-of-type {\n",
       "        vertical-align: middle;\n",
       "    }\n",
       "\n",
       "    .dataframe tbody tr th {\n",
       "        vertical-align: top;\n",
       "    }\n",
       "\n",
       "    .dataframe thead th {\n",
       "        text-align: right;\n",
       "    }\n",
       "</style>\n",
       "<table border=\"1\" class=\"dataframe\">\n",
       "  <thead>\n",
       "    <tr style=\"text-align: right;\">\n",
       "      <th></th>\n",
       "      <th>UserID</th>\n",
       "      <th>ItemID</th>\n",
       "      <th>Predictor</th>\n",
       "    </tr>\n",
       "  </thead>\n",
       "  <tbody>\n",
       "    <tr>\n",
       "      <th>0</th>\n",
       "      <td>200031</td>\n",
       "      <td>30877</td>\n",
       "      <td>1</td>\n",
       "    </tr>\n",
       "    <tr>\n",
       "      <th>1</th>\n",
       "      <td>200031</td>\n",
       "      <td>8244</td>\n",
       "      <td>1</td>\n",
       "    </tr>\n",
       "    <tr>\n",
       "      <th>2</th>\n",
       "      <td>200031</td>\n",
       "      <td>130183</td>\n",
       "      <td>0</td>\n",
       "    </tr>\n",
       "    <tr>\n",
       "      <th>3</th>\n",
       "      <td>200031</td>\n",
       "      <td>198762</td>\n",
       "      <td>0</td>\n",
       "    </tr>\n",
       "    <tr>\n",
       "      <th>4</th>\n",
       "      <td>200031</td>\n",
       "      <td>34503</td>\n",
       "      <td>1</td>\n",
       "    </tr>\n",
       "  </tbody>\n",
       "</table>\n",
       "</div>"
      ],
      "text/plain": [
       "   UserID  ItemID  Predictor\n",
       "0  200031   30877          1\n",
       "1  200031    8244          1\n",
       "2  200031  130183          0\n",
       "3  200031  198762          0\n",
       "4  200031   34503          1"
      ]
     },
     "execution_count": 168,
     "metadata": {},
     "output_type": "execute_result"
    }
   ],
   "source": [
    "import pandas as pd\n",
    "\n",
    "test_pred = pd.read_csv('test2_new.txt', sep = '|', header=None)\n",
    "test_pred.columns = ['UserID', 'ItemID', 'Predictor']\n",
    "test_pred.head()"
   ]
  },
  {
   "cell_type": "code",
   "execution_count": 169,
   "metadata": {},
   "outputs": [
    {
     "data": {
      "text/html": [
       "<div>\n",
       "<style scoped>\n",
       "    .dataframe tbody tr th:only-of-type {\n",
       "        vertical-align: middle;\n",
       "    }\n",
       "\n",
       "    .dataframe tbody tr th {\n",
       "        vertical-align: top;\n",
       "    }\n",
       "\n",
       "    .dataframe thead th {\n",
       "        text-align: right;\n",
       "    }\n",
       "</style>\n",
       "<table border=\"1\" class=\"dataframe\">\n",
       "  <thead>\n",
       "    <tr style=\"text-align: right;\">\n",
       "      <th></th>\n",
       "      <th>UserId</th>\n",
       "      <th>TrackId</th>\n",
       "      <th>albumId</th>\n",
       "      <th>artistId</th>\n",
       "      <th>genre1</th>\n",
       "      <th>genre2</th>\n",
       "      <th>genre3</th>\n",
       "      <th>genre4</th>\n",
       "    </tr>\n",
       "  </thead>\n",
       "  <tbody>\n",
       "    <tr>\n",
       "      <th>0</th>\n",
       "      <td>199810</td>\n",
       "      <td>208019</td>\n",
       "      <td>0.0</td>\n",
       "      <td>0.0</td>\n",
       "      <td>0.0</td>\n",
       "      <td>0.0</td>\n",
       "      <td>0.0</td>\n",
       "      <td>0.0</td>\n",
       "    </tr>\n",
       "    <tr>\n",
       "      <th>1</th>\n",
       "      <td>199810</td>\n",
       "      <td>74139</td>\n",
       "      <td>0.0</td>\n",
       "      <td>0.0</td>\n",
       "      <td>0.0</td>\n",
       "      <td>80.0</td>\n",
       "      <td>0.0</td>\n",
       "      <td>0.0</td>\n",
       "    </tr>\n",
       "    <tr>\n",
       "      <th>2</th>\n",
       "      <td>199810</td>\n",
       "      <td>9903</td>\n",
       "      <td>0.0</td>\n",
       "      <td>0.0</td>\n",
       "      <td>0.0</td>\n",
       "      <td>0.0</td>\n",
       "      <td>0.0</td>\n",
       "      <td>0.0</td>\n",
       "    </tr>\n",
       "    <tr>\n",
       "      <th>3</th>\n",
       "      <td>199810</td>\n",
       "      <td>242681</td>\n",
       "      <td>0.0</td>\n",
       "      <td>0.0</td>\n",
       "      <td>0.0</td>\n",
       "      <td>0.0</td>\n",
       "      <td>0.0</td>\n",
       "      <td>0.0</td>\n",
       "    </tr>\n",
       "    <tr>\n",
       "      <th>4</th>\n",
       "      <td>199810</td>\n",
       "      <td>18515</td>\n",
       "      <td>0.0</td>\n",
       "      <td>70.0</td>\n",
       "      <td>0.0</td>\n",
       "      <td>0.0</td>\n",
       "      <td>0.0</td>\n",
       "      <td>0.0</td>\n",
       "    </tr>\n",
       "  </tbody>\n",
       "</table>\n",
       "</div>"
      ],
      "text/plain": [
       "   UserId  TrackId  albumId  artistId  genre1  genre2  genre3  genre4\n",
       "0  199810   208019      0.0       0.0     0.0     0.0     0.0     0.0\n",
       "1  199810    74139      0.0       0.0     0.0    80.0     0.0     0.0\n",
       "2  199810     9903      0.0       0.0     0.0     0.0     0.0     0.0\n",
       "3  199810   242681      0.0       0.0     0.0     0.0     0.0     0.0\n",
       "4  199810    18515      0.0      70.0     0.0     0.0     0.0     0.0"
      ]
     },
     "execution_count": 169,
     "metadata": {},
     "output_type": "execute_result"
    }
   ],
   "source": [
    "output = pd.read_csv('output120K.txt', sep='|', header=None)\n",
    "output.columns=['UserId','TrackId','albumId','artistId','genre1','genre2','genre3','genre4']\n",
    "output.head()"
   ]
  },
  {
   "cell_type": "markdown",
   "metadata": {},
   "source": [
    "The dataframe contains 120,000 values, and it includes three distinct ratings obtained from the raw data. To extract the corresponding ratings for the values in the test_pred dataframe, we will perform the necessary operations."
   ]
  },
  {
   "cell_type": "code",
   "execution_count": 170,
   "metadata": {},
   "outputs": [
    {
     "data": {
      "text/html": [
       "<div>\n",
       "<style scoped>\n",
       "    .dataframe tbody tr th:only-of-type {\n",
       "        vertical-align: middle;\n",
       "    }\n",
       "\n",
       "    .dataframe tbody tr th {\n",
       "        vertical-align: top;\n",
       "    }\n",
       "\n",
       "    .dataframe thead th {\n",
       "        text-align: right;\n",
       "    }\n",
       "</style>\n",
       "<table border=\"1\" class=\"dataframe\">\n",
       "  <thead>\n",
       "    <tr style=\"text-align: right;\">\n",
       "      <th></th>\n",
       "      <th>UserID</th>\n",
       "      <th>ItemID</th>\n",
       "      <th>albumId</th>\n",
       "      <th>artistId</th>\n",
       "      <th>genre1</th>\n",
       "      <th>genre2</th>\n",
       "      <th>genre3</th>\n",
       "      <th>genre4</th>\n",
       "      <th>Predictor</th>\n",
       "    </tr>\n",
       "  </thead>\n",
       "  <tbody>\n",
       "    <tr>\n",
       "      <th>0</th>\n",
       "      <td>200031</td>\n",
       "      <td>30877</td>\n",
       "      <td>0.0</td>\n",
       "      <td>0.0</td>\n",
       "      <td>0.0</td>\n",
       "      <td>0.0</td>\n",
       "      <td>0.0</td>\n",
       "      <td>0.0</td>\n",
       "      <td>1</td>\n",
       "    </tr>\n",
       "    <tr>\n",
       "      <th>1</th>\n",
       "      <td>200031</td>\n",
       "      <td>8244</td>\n",
       "      <td>0.0</td>\n",
       "      <td>0.0</td>\n",
       "      <td>0.0</td>\n",
       "      <td>0.0</td>\n",
       "      <td>0.0</td>\n",
       "      <td>0.0</td>\n",
       "      <td>1</td>\n",
       "    </tr>\n",
       "    <tr>\n",
       "      <th>2</th>\n",
       "      <td>200031</td>\n",
       "      <td>130183</td>\n",
       "      <td>0.0</td>\n",
       "      <td>0.0</td>\n",
       "      <td>0.0</td>\n",
       "      <td>0.0</td>\n",
       "      <td>0.0</td>\n",
       "      <td>0.0</td>\n",
       "      <td>0</td>\n",
       "    </tr>\n",
       "    <tr>\n",
       "      <th>3</th>\n",
       "      <td>200031</td>\n",
       "      <td>198762</td>\n",
       "      <td>0.0</td>\n",
       "      <td>0.0</td>\n",
       "      <td>0.0</td>\n",
       "      <td>0.0</td>\n",
       "      <td>0.0</td>\n",
       "      <td>0.0</td>\n",
       "      <td>0</td>\n",
       "    </tr>\n",
       "    <tr>\n",
       "      <th>4</th>\n",
       "      <td>200031</td>\n",
       "      <td>34503</td>\n",
       "      <td>0.0</td>\n",
       "      <td>0.0</td>\n",
       "      <td>0.0</td>\n",
       "      <td>0.0</td>\n",
       "      <td>0.0</td>\n",
       "      <td>0.0</td>\n",
       "      <td>1</td>\n",
       "    </tr>\n",
       "  </tbody>\n",
       "</table>\n",
       "</div>"
      ],
      "text/plain": [
       "   UserID  ItemID  albumId  artistId  genre1  genre2  genre3  genre4  \\\n",
       "0  200031   30877      0.0       0.0     0.0     0.0     0.0     0.0   \n",
       "1  200031    8244      0.0       0.0     0.0     0.0     0.0     0.0   \n",
       "2  200031  130183      0.0       0.0     0.0     0.0     0.0     0.0   \n",
       "3  200031  198762      0.0       0.0     0.0     0.0     0.0     0.0   \n",
       "4  200031   34503      0.0       0.0     0.0     0.0     0.0     0.0   \n",
       "\n",
       "   Predictor  \n",
       "0          1  \n",
       "1          1  \n",
       "2          0  \n",
       "3          0  \n",
       "4          1  "
      ]
     },
     "execution_count": 170,
     "metadata": {},
     "output_type": "execute_result"
    }
   ],
   "source": [
    "test_pred['albumId'] = 0.0\n",
    "test_pred['artistId'] = 0.0\n",
    "test_pred['genre1'] = 0.0\n",
    "test_pred['genre2'] = 0.0\n",
    "test_pred['genre3'] = 0.0\n",
    "test_pred['genre4'] = 0.0\n",
    "test_pred = test_pred[['UserID','ItemID','albumId','artistId','genre1','genre2','genre3','genre4', 'Predictor']]\n",
    "test_pred.head()"
   ]
  },
  {
   "cell_type": "code",
   "execution_count": 171,
   "metadata": {},
   "outputs": [
    {
     "name": "stderr",
     "output_type": "stream",
     "text": [
      "C:\\Users\\Admin\\AppData\\Local\\Temp\\ipykernel_14540\\1667257244.py:4: UserWarning: Boolean Series key will be reindexed to match DataFrame index.\n",
      "  test_pred['albumId'][i] = output[output['UserId']==user][output['TrackId']==item]['albumId']\n",
      "C:\\Users\\Admin\\AppData\\Local\\Temp\\ipykernel_14540\\1667257244.py:5: UserWarning: Boolean Series key will be reindexed to match DataFrame index.\n",
      "  test_pred['artistId'][i] = output[output['UserId']==user][output['TrackId']==item]['artistId']\n",
      "C:\\Users\\Admin\\AppData\\Local\\Temp\\ipykernel_14540\\1667257244.py:6: UserWarning: Boolean Series key will be reindexed to match DataFrame index.\n",
      "  test_pred['genre1'][i] = output[output['UserId']==user][output['TrackId']==item]['genre1']\n",
      "C:\\Users\\Admin\\AppData\\Local\\Temp\\ipykernel_14540\\1667257244.py:7: UserWarning: Boolean Series key will be reindexed to match DataFrame index.\n",
      "  test_pred['genre2'][i] = output[output['UserId']==user][output['TrackId']==item]['genre2']\n",
      "C:\\Users\\Admin\\AppData\\Local\\Temp\\ipykernel_14540\\1667257244.py:8: UserWarning: Boolean Series key will be reindexed to match DataFrame index.\n",
      "  test_pred['genre3'][i] = output[output['UserId']==user][output['TrackId']==item]['genre3']\n",
      "C:\\Users\\Admin\\AppData\\Local\\Temp\\ipykernel_14540\\1667257244.py:4: SettingWithCopyWarning: \n",
      "A value is trying to be set on a copy of a slice from a DataFrame\n",
      "\n",
      "See the caveats in the documentation: https://pandas.pydata.org/pandas-docs/stable/user_guide/indexing.html#returning-a-view-versus-a-copy\n",
      "  test_pred['albumId'][i] = output[output['UserId']==user][output['TrackId']==item]['albumId']\n",
      "C:\\Users\\Admin\\AppData\\Local\\Temp\\ipykernel_14540\\1667257244.py:5: SettingWithCopyWarning: \n",
      "A value is trying to be set on a copy of a slice from a DataFrame\n",
      "\n",
      "See the caveats in the documentation: https://pandas.pydata.org/pandas-docs/stable/user_guide/indexing.html#returning-a-view-versus-a-copy\n",
      "  test_pred['artistId'][i] = output[output['UserId']==user][output['TrackId']==item]['artistId']\n",
      "C:\\Users\\Admin\\AppData\\Local\\Temp\\ipykernel_14540\\1667257244.py:6: SettingWithCopyWarning: \n",
      "A value is trying to be set on a copy of a slice from a DataFrame\n",
      "\n",
      "See the caveats in the documentation: https://pandas.pydata.org/pandas-docs/stable/user_guide/indexing.html#returning-a-view-versus-a-copy\n",
      "  test_pred['genre1'][i] = output[output['UserId']==user][output['TrackId']==item]['genre1']\n",
      "C:\\Users\\Admin\\AppData\\Local\\Temp\\ipykernel_14540\\1667257244.py:7: SettingWithCopyWarning: \n",
      "A value is trying to be set on a copy of a slice from a DataFrame\n",
      "\n",
      "See the caveats in the documentation: https://pandas.pydata.org/pandas-docs/stable/user_guide/indexing.html#returning-a-view-versus-a-copy\n",
      "  test_pred['genre2'][i] = output[output['UserId']==user][output['TrackId']==item]['genre2']\n",
      "C:\\Users\\Admin\\AppData\\Local\\Temp\\ipykernel_14540\\1667257244.py:8: SettingWithCopyWarning: \n",
      "A value is trying to be set on a copy of a slice from a DataFrame\n",
      "\n",
      "See the caveats in the documentation: https://pandas.pydata.org/pandas-docs/stable/user_guide/indexing.html#returning-a-view-versus-a-copy\n",
      "  test_pred['genre3'][i] = output[output['UserId']==user][output['TrackId']==item]['genre3']\n"
     ]
    }
   ],
   "source": [
    "for i in range(len(test_pred)):\n",
    "    user = test_pred['UserID'][i]\n",
    "    item = test_pred['ItemID'][i]\n",
    "    test_pred['albumId'][i] = output[output['UserId']==user][output['TrackId']==item]['albumId']\n",
    "    test_pred['artistId'][i] = output[output['UserId']==user][output['TrackId']==item]['artistId']\n",
    "    test_pred['genre1'][i] = output[output['UserId']==user][output['TrackId']==item]['genre1']\n",
    "    test_pred['genre2'][i] = output[output['UserId']==user][output['TrackId']==item]['genre2']\n",
    "    test_pred['genre3'][i] = output[output['UserId']==user][output['TrackId']==item]['genre3']"
   ]
  },
  {
   "cell_type": "code",
   "execution_count": 172,
   "metadata": {},
   "outputs": [],
   "source": [
    "test_pred['mean']=(test_pred['genre1']+test_pred['genre2']+test_pred['genre3']+test_pred['genre4'])/4\n",
    "# calculate the variance for each genre column\n",
    "genre_cols = ['genre1', 'genre2', 'genre3', 'genre4']\n",
    "genre_variances = test_pred[genre_cols].var()\n",
    "\n",
    "# create a new column in the dataframe for each genre variance\n",
    "for col, var in zip(genre_cols, genre_variances):\n",
    "    test_pred[col + '_variance'] = var\n",
    "\n",
    "    # Calculate maximum and minimum values for each row\n",
    "max_vals = test_pred[genre_cols].max(axis=1)\n",
    "min_vals = test_pred[genre_cols].min(axis=1)\n",
    "\n",
    "# Add the maximum and minimum values as new columns in the dataframe\n",
    "test_pred['max_genre'] = max_vals\n",
    "test_pred['min_genre'] = min_vals"
   ]
  },
  {
   "cell_type": "code",
   "execution_count": 173,
   "metadata": {},
   "outputs": [],
   "source": [
    "test_pred.drop(columns={'genre1','genre2','genre3','genre4'},inplace=True)"
   ]
  },
  {
   "cell_type": "code",
   "execution_count": 174,
   "metadata": {},
   "outputs": [
    {
     "data": {
      "text/html": [
       "<div>\n",
       "<style scoped>\n",
       "    .dataframe tbody tr th:only-of-type {\n",
       "        vertical-align: middle;\n",
       "    }\n",
       "\n",
       "    .dataframe tbody tr th {\n",
       "        vertical-align: top;\n",
       "    }\n",
       "\n",
       "    .dataframe thead th {\n",
       "        text-align: right;\n",
       "    }\n",
       "</style>\n",
       "<table border=\"1\" class=\"dataframe\">\n",
       "  <thead>\n",
       "    <tr style=\"text-align: right;\">\n",
       "      <th></th>\n",
       "      <th>UserID</th>\n",
       "      <th>ItemID</th>\n",
       "      <th>albumId</th>\n",
       "      <th>artistId</th>\n",
       "      <th>Predictor</th>\n",
       "      <th>mean</th>\n",
       "      <th>genre1_variance</th>\n",
       "      <th>genre2_variance</th>\n",
       "      <th>genre3_variance</th>\n",
       "      <th>genre4_variance</th>\n",
       "      <th>max_genre</th>\n",
       "      <th>min_genre</th>\n",
       "    </tr>\n",
       "  </thead>\n",
       "  <tbody>\n",
       "    <tr>\n",
       "      <th>0</th>\n",
       "      <td>200031</td>\n",
       "      <td>30877</td>\n",
       "      <td>90.0</td>\n",
       "      <td>50.0</td>\n",
       "      <td>1</td>\n",
       "      <td>42.5</td>\n",
       "      <td>1545.619729</td>\n",
       "      <td>767.872072</td>\n",
       "      <td>352.421097</td>\n",
       "      <td>0.0</td>\n",
       "      <td>90.0</td>\n",
       "      <td>0.0</td>\n",
       "    </tr>\n",
       "    <tr>\n",
       "      <th>1</th>\n",
       "      <td>200031</td>\n",
       "      <td>8244</td>\n",
       "      <td>90.0</td>\n",
       "      <td>0.0</td>\n",
       "      <td>1</td>\n",
       "      <td>42.5</td>\n",
       "      <td>1545.619729</td>\n",
       "      <td>767.872072</td>\n",
       "      <td>352.421097</td>\n",
       "      <td>0.0</td>\n",
       "      <td>90.0</td>\n",
       "      <td>0.0</td>\n",
       "    </tr>\n",
       "    <tr>\n",
       "      <th>2</th>\n",
       "      <td>200031</td>\n",
       "      <td>130183</td>\n",
       "      <td>0.0</td>\n",
       "      <td>0.0</td>\n",
       "      <td>0</td>\n",
       "      <td>0.0</td>\n",
       "      <td>1545.619729</td>\n",
       "      <td>767.872072</td>\n",
       "      <td>352.421097</td>\n",
       "      <td>0.0</td>\n",
       "      <td>0.0</td>\n",
       "      <td>0.0</td>\n",
       "    </tr>\n",
       "    <tr>\n",
       "      <th>3</th>\n",
       "      <td>200031</td>\n",
       "      <td>198762</td>\n",
       "      <td>0.0</td>\n",
       "      <td>0.0</td>\n",
       "      <td>0</td>\n",
       "      <td>22.5</td>\n",
       "      <td>1545.619729</td>\n",
       "      <td>767.872072</td>\n",
       "      <td>352.421097</td>\n",
       "      <td>0.0</td>\n",
       "      <td>90.0</td>\n",
       "      <td>0.0</td>\n",
       "    </tr>\n",
       "    <tr>\n",
       "      <th>4</th>\n",
       "      <td>200031</td>\n",
       "      <td>34503</td>\n",
       "      <td>90.0</td>\n",
       "      <td>50.0</td>\n",
       "      <td>1</td>\n",
       "      <td>42.5</td>\n",
       "      <td>1545.619729</td>\n",
       "      <td>767.872072</td>\n",
       "      <td>352.421097</td>\n",
       "      <td>0.0</td>\n",
       "      <td>90.0</td>\n",
       "      <td>0.0</td>\n",
       "    </tr>\n",
       "    <tr>\n",
       "      <th>5</th>\n",
       "      <td>200031</td>\n",
       "      <td>227283</td>\n",
       "      <td>0.0</td>\n",
       "      <td>90.0</td>\n",
       "      <td>0</td>\n",
       "      <td>35.0</td>\n",
       "      <td>1545.619729</td>\n",
       "      <td>767.872072</td>\n",
       "      <td>352.421097</td>\n",
       "      <td>0.0</td>\n",
       "      <td>90.0</td>\n",
       "      <td>0.0</td>\n",
       "    </tr>\n",
       "  </tbody>\n",
       "</table>\n",
       "</div>"
      ],
      "text/plain": [
       "   UserID  ItemID  albumId  artistId  Predictor  mean  genre1_variance  \\\n",
       "0  200031   30877     90.0      50.0          1  42.5      1545.619729   \n",
       "1  200031    8244     90.0       0.0          1  42.5      1545.619729   \n",
       "2  200031  130183      0.0       0.0          0   0.0      1545.619729   \n",
       "3  200031  198762      0.0       0.0          0  22.5      1545.619729   \n",
       "4  200031   34503     90.0      50.0          1  42.5      1545.619729   \n",
       "5  200031  227283      0.0      90.0          0  35.0      1545.619729   \n",
       "\n",
       "   genre2_variance  genre3_variance  genre4_variance  max_genre  min_genre  \n",
       "0       767.872072       352.421097              0.0       90.0        0.0  \n",
       "1       767.872072       352.421097              0.0       90.0        0.0  \n",
       "2       767.872072       352.421097              0.0        0.0        0.0  \n",
       "3       767.872072       352.421097              0.0       90.0        0.0  \n",
       "4       767.872072       352.421097              0.0       90.0        0.0  \n",
       "5       767.872072       352.421097              0.0       90.0        0.0  "
      ]
     },
     "execution_count": 174,
     "metadata": {},
     "output_type": "execute_result"
    }
   ],
   "source": [
    "test_pred.head(6)"
   ]
  },
  {
   "cell_type": "code",
   "execution_count": 175,
   "metadata": {},
   "outputs": [
    {
     "data": {
      "text/html": [
       "<div>\n",
       "<style scoped>\n",
       "    .dataframe tbody tr th:only-of-type {\n",
       "        vertical-align: middle;\n",
       "    }\n",
       "\n",
       "    .dataframe tbody tr th {\n",
       "        vertical-align: top;\n",
       "    }\n",
       "\n",
       "    .dataframe thead th {\n",
       "        text-align: right;\n",
       "    }\n",
       "</style>\n",
       "<table border=\"1\" class=\"dataframe\">\n",
       "  <thead>\n",
       "    <tr style=\"text-align: right;\">\n",
       "      <th></th>\n",
       "      <th>UserId</th>\n",
       "      <th>TrackId</th>\n",
       "      <th>albumId</th>\n",
       "      <th>artistId</th>\n",
       "      <th>mean</th>\n",
       "    </tr>\n",
       "  </thead>\n",
       "  <tbody>\n",
       "    <tr>\n",
       "      <th>0</th>\n",
       "      <td>199810</td>\n",
       "      <td>208019</td>\n",
       "      <td>0.0</td>\n",
       "      <td>0.0</td>\n",
       "      <td>0.0</td>\n",
       "    </tr>\n",
       "    <tr>\n",
       "      <th>1</th>\n",
       "      <td>199810</td>\n",
       "      <td>74139</td>\n",
       "      <td>0.0</td>\n",
       "      <td>0.0</td>\n",
       "      <td>20.0</td>\n",
       "    </tr>\n",
       "    <tr>\n",
       "      <th>2</th>\n",
       "      <td>199810</td>\n",
       "      <td>9903</td>\n",
       "      <td>0.0</td>\n",
       "      <td>0.0</td>\n",
       "      <td>0.0</td>\n",
       "    </tr>\n",
       "    <tr>\n",
       "      <th>3</th>\n",
       "      <td>199810</td>\n",
       "      <td>242681</td>\n",
       "      <td>0.0</td>\n",
       "      <td>0.0</td>\n",
       "      <td>0.0</td>\n",
       "    </tr>\n",
       "    <tr>\n",
       "      <th>4</th>\n",
       "      <td>199810</td>\n",
       "      <td>18515</td>\n",
       "      <td>0.0</td>\n",
       "      <td>70.0</td>\n",
       "      <td>0.0</td>\n",
       "    </tr>\n",
       "  </tbody>\n",
       "</table>\n",
       "</div>"
      ],
      "text/plain": [
       "   UserId  TrackId  albumId  artistId  mean\n",
       "0  199810   208019      0.0       0.0   0.0\n",
       "1  199810    74139      0.0       0.0  20.0\n",
       "2  199810     9903      0.0       0.0   0.0\n",
       "3  199810   242681      0.0       0.0   0.0\n",
       "4  199810    18515      0.0      70.0   0.0"
      ]
     },
     "execution_count": 175,
     "metadata": {},
     "output_type": "execute_result"
    }
   ],
   "source": [
    "output[output['UserId']==200031]\n",
    "\n",
    "output['mean']=(output['genre1']+output['genre2']+output['genre3']+output['genre4'])/4\n",
    "output.drop(columns={'genre1','genre2','genre3','genre4'},inplace=True)\n",
    "output.head()"
   ]
  },
  {
   "cell_type": "code",
   "execution_count": 176,
   "metadata": {},
   "outputs": [],
   "source": [
    "test_pred.to_csv('test_predictions.csv', index=False)"
   ]
  },
  {
   "cell_type": "code",
   "execution_count": 177,
   "metadata": {},
   "outputs": [],
   "source": [
    "output.to_csv('genre_rating.csv', index=False) "
   ]
  },
  {
   "cell_type": "markdown",
   "metadata": {},
   "source": [
    "## 3. Performing data classification utilizing PySpark."
   ]
  },
  {
   "cell_type": "code",
   "execution_count": 178,
   "metadata": {},
   "outputs": [],
   "source": [
    "from pyspark.sql import SparkSession\n",
    "\n",
    "spark = SparkSession.builder.appName('recommender').getOrCreate()"
   ]
  },
  {
   "cell_type": "code",
   "execution_count": 179,
   "metadata": {},
   "outputs": [
    {
     "name": "stdout",
     "output_type": "stream",
     "text": [
      "root\n",
      " |-- UserID: integer (nullable = true)\n",
      " |-- ItemID: integer (nullable = true)\n",
      " |-- albumId: double (nullable = true)\n",
      " |-- artistId: double (nullable = true)\n",
      " |-- Predictor: integer (nullable = true)\n",
      " |-- mean: double (nullable = true)\n",
      " |-- genre1_variance: double (nullable = true)\n",
      " |-- genre2_variance: double (nullable = true)\n",
      " |-- genre3_variance: double (nullable = true)\n",
      " |-- genre4_variance: double (nullable = true)\n",
      " |-- max_genre: double (nullable = true)\n",
      " |-- min_genre: double (nullable = true)\n",
      "\n"
     ]
    }
   ],
   "source": [
    "dataframe = spark.read.csv('test_predictions.csv', header=True, inferSchema=True)\n",
    "dataframe.printSchema()"
   ]
  },
  {
   "cell_type": "code",
   "execution_count": 180,
   "metadata": {},
   "outputs": [
    {
     "name": "stdout",
     "output_type": "stream",
     "text": [
      "+------+------+-------+--------+---------+----+------------------+-----------------+------------------+---------------+---------+---------+\n",
      "|UserID|ItemID|albumId|artistId|Predictor|mean|   genre1_variance|  genre2_variance|   genre3_variance|genre4_variance|max_genre|min_genre|\n",
      "+------+------+-------+--------+---------+----+------------------+-----------------+------------------+---------------+---------+---------+\n",
      "|200031| 30877|   90.0|    50.0|        1|42.5|1545.6197285936546|767.8720724287383|352.42109673834545|            0.0|     90.0|      0.0|\n",
      "|200031|  8244|   90.0|     0.0|        1|42.5|1545.6197285936546|767.8720724287383|352.42109673834545|            0.0|     90.0|      0.0|\n",
      "|200031|130183|    0.0|     0.0|        0| 0.0|1545.6197285936546|767.8720724287383|352.42109673834545|            0.0|      0.0|      0.0|\n",
      "|200031|198762|    0.0|     0.0|        0|22.5|1545.6197285936546|767.8720724287383|352.42109673834545|            0.0|     90.0|      0.0|\n",
      "|200031| 34503|   90.0|    50.0|        1|42.5|1545.6197285936546|767.8720724287383|352.42109673834545|            0.0|     90.0|      0.0|\n",
      "|200031|227283|    0.0|    90.0|        0|35.0|1545.6197285936546|767.8720724287383|352.42109673834545|            0.0|     90.0|      0.0|\n",
      "|200032|218377|    0.0|     0.0|        0| 0.0|1545.6197285936546|767.8720724287383|352.42109673834545|            0.0|      0.0|      0.0|\n",
      "|200032|110262|    0.0|     0.0|        0| 0.0|1545.6197285936546|767.8720724287383|352.42109673834545|            0.0|      0.0|      0.0|\n",
      "|200032| 18681|   90.0|    90.0|        1| 0.0|1545.6197285936546|767.8720724287383|352.42109673834545|            0.0|      0.0|      0.0|\n",
      "|200032|138493|   90.0|    90.0|        1| 0.0|1545.6197285936546|767.8720724287383|352.42109673834545|            0.0|      0.0|      0.0|\n",
      "+------+------+-------+--------+---------+----+------------------+-----------------+------------------+---------------+---------+---------+\n",
      "only showing top 10 rows\n",
      "\n"
     ]
    }
   ],
   "source": [
    "dataframe.show(10)"
   ]
  },
  {
   "cell_type": "code",
   "execution_count": 181,
   "metadata": {},
   "outputs": [],
   "source": [
    "columns = dataframe.columns"
   ]
  },
  {
   "cell_type": "code",
   "execution_count": 182,
   "metadata": {},
   "outputs": [],
   "source": [
    "from pyspark.ml.feature import VectorAssembler\n",
    "\n",
    "assemblerInput = ['albumId','artistId','mean']\n",
    "assembler = VectorAssembler(inputCols = assemblerInput, outputCol='features')"
   ]
  },
  {
   "cell_type": "code",
   "execution_count": 183,
   "metadata": {},
   "outputs": [
    {
     "data": {
      "text/plain": [
       "VectorAssembler_b0446bf1aa7c"
      ]
     },
     "execution_count": 183,
     "metadata": {},
     "output_type": "execute_result"
    }
   ],
   "source": [
    "assembler"
   ]
  },
  {
   "cell_type": "code",
   "execution_count": 184,
   "metadata": {},
   "outputs": [],
   "source": [
    "stages=[]\n",
    "stages += [assembler]"
   ]
  },
  {
   "cell_type": "code",
   "execution_count": 185,
   "metadata": {},
   "outputs": [
    {
     "data": {
      "text/plain": [
       "[VectorAssembler_b0446bf1aa7c]"
      ]
     },
     "execution_count": 185,
     "metadata": {},
     "output_type": "execute_result"
    }
   ],
   "source": [
    "stages"
   ]
  },
  {
   "cell_type": "code",
   "execution_count": 186,
   "metadata": {},
   "outputs": [
    {
     "name": "stdout",
     "output_type": "stream",
     "text": [
      "root\n",
      " |-- features: vector (nullable = true)\n",
      " |-- UserID: integer (nullable = true)\n",
      " |-- ItemID: integer (nullable = true)\n",
      " |-- albumId: double (nullable = true)\n",
      " |-- artistId: double (nullable = true)\n",
      " |-- Predictor: integer (nullable = true)\n",
      " |-- mean: double (nullable = true)\n",
      " |-- genre1_variance: double (nullable = true)\n",
      " |-- genre2_variance: double (nullable = true)\n",
      " |-- genre3_variance: double (nullable = true)\n",
      " |-- genre4_variance: double (nullable = true)\n",
      " |-- max_genre: double (nullable = true)\n",
      " |-- min_genre: double (nullable = true)\n",
      "\n"
     ]
    }
   ],
   "source": [
    "from pyspark.ml import Pipeline\n",
    "pipeline = Pipeline(stages=stages)\n",
    "pipelineModel = pipeline.fit(dataframe)\n",
    "dataframe = pipelineModel.transform(dataframe)\n",
    "selectedCols = ['features'] + columns\n",
    "dataframe = dataframe.select(selectedCols)\n",
    "dataframe.printSchema()"
   ]
  },
  {
   "cell_type": "code",
   "execution_count": 187,
   "metadata": {},
   "outputs": [
    {
     "name": "stdout",
     "output_type": "stream",
     "text": [
      "Training Dataset Count: 4260\n",
      "Test Dataset Count: 1740\n"
     ]
    }
   ],
   "source": [
    "train, test = dataframe.randomSplit([0.7, 0.3], seed=2018)\n",
    "print('Training Dataset Count: '+str(train.count()))\n",
    "print('Test Dataset Count: '+str(test.count()))"
   ]
  },
  {
   "cell_type": "markdown",
   "metadata": {},
   "source": [
    "# a) Using Logistic Regression:"
   ]
  },
  {
   "cell_type": "code",
   "execution_count": 188,
   "metadata": {},
   "outputs": [],
   "source": [
    "from pyspark.ml.classification import LogisticRegression\n",
    "\n",
    "logreg = LogisticRegression(featuresCol = 'features', labelCol = 'Predictor', maxIter=10)\n",
    "logregModel = logreg.fit(dataframe)"
   ]
  },
  {
   "cell_type": "code",
   "execution_count": 189,
   "metadata": {},
   "outputs": [
    {
     "name": "stdout",
     "output_type": "stream",
     "text": [
      "Training Set Area Under ROC: 0.8928173888888888\n"
     ]
    }
   ],
   "source": [
    "trainingSummary = logregModel.summary\n",
    "print(\"Training Set Area Under ROC: \"+str(trainingSummary.areaUnderROC))"
   ]
  },
  {
   "cell_type": "code",
   "execution_count": 190,
   "metadata": {},
   "outputs": [
    {
     "name": "stdout",
     "output_type": "stream",
     "text": [
      "root\n",
      " |-- UserId: integer (nullable = true)\n",
      " |-- TrackId: integer (nullable = true)\n",
      " |-- albumId: double (nullable = true)\n",
      " |-- artistId: double (nullable = true)\n",
      " |-- mean: double (nullable = true)\n",
      "\n"
     ]
    }
   ],
   "source": [
    "main_df = spark.read.csv('genre_rating.csv', header=True, inferSchema=True)\n",
    "main_df.printSchema()"
   ]
  },
  {
   "cell_type": "code",
   "execution_count": 191,
   "metadata": {},
   "outputs": [
    {
     "name": "stdout",
     "output_type": "stream",
     "text": [
      "root\n",
      " |-- features: vector (nullable = true)\n",
      " |-- UserId: integer (nullable = true)\n",
      " |-- TrackId: integer (nullable = true)\n",
      " |-- albumId: double (nullable = true)\n",
      " |-- artistId: double (nullable = true)\n",
      " |-- mean: double (nullable = true)\n",
      "\n"
     ]
    }
   ],
   "source": [
    "main_cols = main_df.columns\n",
    "main_df = pipelineModel.transform(main_df)\n",
    "selCols = ['features'] + main_cols\n",
    "main_df = main_df.select(selCols)\n",
    "main_df.printSchema()"
   ]
  },
  {
   "cell_type": "code",
   "execution_count": 192,
   "metadata": {},
   "outputs": [],
   "source": [
    "predictions_120 = logregModel.transform(main_df)"
   ]
  },
  {
   "cell_type": "code",
   "execution_count": 193,
   "metadata": {},
   "outputs": [
    {
     "name": "stdout",
     "output_type": "stream",
     "text": [
      "+------------------+------+-------+-------+--------+----+--------------------+--------------------+----------+\n",
      "|          features|UserId|TrackId|albumId|artistId|mean|       rawPrediction|         probability|prediction|\n",
      "+------------------+------+-------+-------+--------+----+--------------------+--------------------+----------+\n",
      "|         (3,[],[])|199810| 208019|    0.0|     0.0| 0.0|[1.57149124542077...|[0.82799609318762...|       0.0|\n",
      "|    [0.0,0.0,20.0]|199810|  74139|    0.0|     0.0|20.0|[1.23417860065007...|[0.77454909021038...|       0.0|\n",
      "|         (3,[],[])|199810|   9903|    0.0|     0.0| 0.0|[1.57149124542077...|[0.82799609318762...|       0.0|\n",
      "|         (3,[],[])|199810| 242681|    0.0|     0.0| 0.0|[1.57149124542077...|[0.82799609318762...|       0.0|\n",
      "|    [0.0,70.0,0.0]|199810|  18515|    0.0|    70.0| 0.0|[-0.6045989337662...|[0.35329223639194...|       1.0|\n",
      "|   [0.0,90.0,40.0]|199810| 105760|    0.0|    90.0|40.0|[-1.9009642745038...|[0.12999937644581...|       1.0|\n",
      "|         (3,[],[])|199812| 276940|    0.0|     0.0| 0.0|[1.57149124542077...|[0.82799609318762...|       0.0|\n",
      "|[100.0,100.0,40.0]|199812| 142408|  100.0|   100.0|40.0|[-7.1430177270585...|[7.89739212091160...|       1.0|\n",
      "|[100.0,100.0,40.0]|199812| 130023|  100.0|   100.0|40.0|[-7.1430177270585...|[7.89739212091160...|       1.0|\n",
      "|    [0.0,0.0,20.0]|199812|  29189|    0.0|     0.0|20.0|[1.23417860065007...|[0.77454909021038...|       0.0|\n",
      "+------------------+------+-------+-------+--------+----+--------------------+--------------------+----------+\n",
      "only showing top 10 rows\n",
      "\n"
     ]
    }
   ],
   "source": [
    "predictions_120.show(10)"
   ]
  },
  {
   "cell_type": "code",
   "execution_count": 194,
   "metadata": {},
   "outputs": [],
   "source": [
    "logreg_answer = predictions_120.select('UserId','TrackId','prediction')"
   ]
  },
  {
   "cell_type": "code",
   "execution_count": 195,
   "metadata": {},
   "outputs": [],
   "source": [
    "logreg_answer = logreg_answer.toPandas()"
   ]
  },
  {
   "cell_type": "code",
   "execution_count": 196,
   "metadata": {},
   "outputs": [
    {
     "data": {
      "text/html": [
       "<div>\n",
       "<style scoped>\n",
       "    .dataframe tbody tr th:only-of-type {\n",
       "        vertical-align: middle;\n",
       "    }\n",
       "\n",
       "    .dataframe tbody tr th {\n",
       "        vertical-align: top;\n",
       "    }\n",
       "\n",
       "    .dataframe thead th {\n",
       "        text-align: right;\n",
       "    }\n",
       "</style>\n",
       "<table border=\"1\" class=\"dataframe\">\n",
       "  <thead>\n",
       "    <tr style=\"text-align: right;\">\n",
       "      <th></th>\n",
       "      <th>UserId</th>\n",
       "      <th>TrackId</th>\n",
       "      <th>prediction</th>\n",
       "    </tr>\n",
       "  </thead>\n",
       "  <tbody>\n",
       "    <tr>\n",
       "      <th>0</th>\n",
       "      <td>199810</td>\n",
       "      <td>208019</td>\n",
       "      <td>0.0</td>\n",
       "    </tr>\n",
       "    <tr>\n",
       "      <th>1</th>\n",
       "      <td>199810</td>\n",
       "      <td>74139</td>\n",
       "      <td>0.0</td>\n",
       "    </tr>\n",
       "    <tr>\n",
       "      <th>2</th>\n",
       "      <td>199810</td>\n",
       "      <td>9903</td>\n",
       "      <td>0.0</td>\n",
       "    </tr>\n",
       "    <tr>\n",
       "      <th>3</th>\n",
       "      <td>199810</td>\n",
       "      <td>242681</td>\n",
       "      <td>0.0</td>\n",
       "    </tr>\n",
       "    <tr>\n",
       "      <th>4</th>\n",
       "      <td>199810</td>\n",
       "      <td>18515</td>\n",
       "      <td>1.0</td>\n",
       "    </tr>\n",
       "  </tbody>\n",
       "</table>\n",
       "</div>"
      ],
      "text/plain": [
       "   UserId  TrackId  prediction\n",
       "0  199810   208019         0.0\n",
       "1  199810    74139         0.0\n",
       "2  199810     9903         0.0\n",
       "3  199810   242681         0.0\n",
       "4  199810    18515         1.0"
      ]
     },
     "execution_count": 196,
     "metadata": {},
     "output_type": "execute_result"
    }
   ],
   "source": [
    "\n",
    "logreg_answer.head()"
   ]
  },
  {
   "cell_type": "code",
   "execution_count": 197,
   "metadata": {},
   "outputs": [
    {
     "name": "stderr",
     "output_type": "stream",
     "text": [
      "C:\\Users\\Admin\\AppData\\Local\\Temp\\ipykernel_14540\\1655893323.py:2: SettingWithCopyWarning: \n",
      "A value is trying to be set on a copy of a slice from a DataFrame\n",
      "\n",
      "See the caveats in the documentation: https://pandas.pydata.org/pandas-docs/stable/user_guide/indexing.html#returning-a-view-versus-a-copy\n",
      "  logreg_answer['TrackId'][i] = str(logreg_answer['UserId'][i])+'_'+str(logreg_answer['TrackId'][i])\n"
     ]
    }
   ],
   "source": [
    "for i in range(len(logreg_answer)):\n",
    "    logreg_answer['TrackId'][i] = str(logreg_answer['UserId'][i])+'_'+str(logreg_answer['TrackId'][i])\n"
   ]
  },
  {
   "cell_type": "code",
   "execution_count": 198,
   "metadata": {},
   "outputs": [
    {
     "data": {
      "text/html": [
       "<div>\n",
       "<style scoped>\n",
       "    .dataframe tbody tr th:only-of-type {\n",
       "        vertical-align: middle;\n",
       "    }\n",
       "\n",
       "    .dataframe tbody tr th {\n",
       "        vertical-align: top;\n",
       "    }\n",
       "\n",
       "    .dataframe thead th {\n",
       "        text-align: right;\n",
       "    }\n",
       "</style>\n",
       "<table border=\"1\" class=\"dataframe\">\n",
       "  <thead>\n",
       "    <tr style=\"text-align: right;\">\n",
       "      <th></th>\n",
       "      <th>TrackId</th>\n",
       "      <th>UserId</th>\n",
       "      <th>Predictor</th>\n",
       "    </tr>\n",
       "  </thead>\n",
       "  <tbody>\n",
       "    <tr>\n",
       "      <th>0</th>\n",
       "      <td>199810_208019</td>\n",
       "      <td>199810</td>\n",
       "      <td>0.0</td>\n",
       "    </tr>\n",
       "    <tr>\n",
       "      <th>1</th>\n",
       "      <td>199810_74139</td>\n",
       "      <td>199810</td>\n",
       "      <td>0.0</td>\n",
       "    </tr>\n",
       "    <tr>\n",
       "      <th>2</th>\n",
       "      <td>199810_9903</td>\n",
       "      <td>199810</td>\n",
       "      <td>0.0</td>\n",
       "    </tr>\n",
       "    <tr>\n",
       "      <th>3</th>\n",
       "      <td>199810_242681</td>\n",
       "      <td>199810</td>\n",
       "      <td>0.0</td>\n",
       "    </tr>\n",
       "    <tr>\n",
       "      <th>4</th>\n",
       "      <td>199810_18515</td>\n",
       "      <td>199810</td>\n",
       "      <td>1.0</td>\n",
       "    </tr>\n",
       "  </tbody>\n",
       "</table>\n",
       "</div>"
      ],
      "text/plain": [
       "         TrackId  UserId  Predictor\n",
       "0  199810_208019  199810        0.0\n",
       "1   199810_74139  199810        0.0\n",
       "2    199810_9903  199810        0.0\n",
       "3  199810_242681  199810        0.0\n",
       "4   199810_18515  199810        1.0"
      ]
     },
     "execution_count": 198,
     "metadata": {},
     "output_type": "execute_result"
    }
   ],
   "source": [
    "logreg_answer = logreg_answer[['TrackId', 'UserId', 'prediction']]\n",
    "logreg_answer = logreg_answer.rename(columns={'prediction': 'Predictor'})\n",
    "logreg_answer.head()"
   ]
  },
  {
   "cell_type": "code",
   "execution_count": 199,
   "metadata": {},
   "outputs": [],
   "source": [
    "logreg_answer.drop(columns={'UserId'}, inplace=True)"
   ]
  },
  {
   "cell_type": "code",
   "execution_count": 200,
   "metadata": {},
   "outputs": [
    {
     "data": {
      "text/html": [
       "<div>\n",
       "<style scoped>\n",
       "    .dataframe tbody tr th:only-of-type {\n",
       "        vertical-align: middle;\n",
       "    }\n",
       "\n",
       "    .dataframe tbody tr th {\n",
       "        vertical-align: top;\n",
       "    }\n",
       "\n",
       "    .dataframe thead th {\n",
       "        text-align: right;\n",
       "    }\n",
       "</style>\n",
       "<table border=\"1\" class=\"dataframe\">\n",
       "  <thead>\n",
       "    <tr style=\"text-align: right;\">\n",
       "      <th></th>\n",
       "      <th>TrackId</th>\n",
       "      <th>Predictor</th>\n",
       "    </tr>\n",
       "  </thead>\n",
       "  <tbody>\n",
       "    <tr>\n",
       "      <th>0</th>\n",
       "      <td>199810_208019</td>\n",
       "      <td>0.0</td>\n",
       "    </tr>\n",
       "    <tr>\n",
       "      <th>1</th>\n",
       "      <td>199810_74139</td>\n",
       "      <td>0.0</td>\n",
       "    </tr>\n",
       "    <tr>\n",
       "      <th>2</th>\n",
       "      <td>199810_9903</td>\n",
       "      <td>0.0</td>\n",
       "    </tr>\n",
       "    <tr>\n",
       "      <th>3</th>\n",
       "      <td>199810_242681</td>\n",
       "      <td>0.0</td>\n",
       "    </tr>\n",
       "    <tr>\n",
       "      <th>4</th>\n",
       "      <td>199810_18515</td>\n",
       "      <td>1.0</td>\n",
       "    </tr>\n",
       "  </tbody>\n",
       "</table>\n",
       "</div>"
      ],
      "text/plain": [
       "         TrackId  Predictor\n",
       "0  199810_208019        0.0\n",
       "1   199810_74139        0.0\n",
       "2    199810_9903        0.0\n",
       "3  199810_242681        0.0\n",
       "4   199810_18515        1.0"
      ]
     },
     "execution_count": 200,
     "metadata": {},
     "output_type": "execute_result"
    }
   ],
   "source": [
    "logreg_answer.head()"
   ]
  },
  {
   "cell_type": "code",
   "execution_count": 201,
   "metadata": {},
   "outputs": [],
   "source": [
    "logreg_answer.to_csv('logreg_answer.csv', index=False)"
   ]
  },
  {
   "cell_type": "markdown",
   "metadata": {},
   "source": [
    "Uploading the data from this logistic regression gives 85.356% on the leaderboard."
   ]
  },
  {
   "cell_type": "markdown",
   "metadata": {},
   "source": [
    "# b) Using Decision Tree"
   ]
  },
  {
   "cell_type": "code",
   "execution_count": 202,
   "metadata": {},
   "outputs": [],
   "source": [
    "from pyspark.ml.classification import DecisionTreeClassifier\n",
    "\n",
    "dectree = DecisionTreeClassifier(featuresCol = 'features', labelCol = 'Predictor', maxDepth=3)\n",
    "dectreeModel = dectree.fit(dataframe)\n",
    "preds_120_dectree = dectreeModel.transform(main_df)"
   ]
  },
  {
   "cell_type": "code",
   "execution_count": 203,
   "metadata": {},
   "outputs": [
    {
     "data": {
      "text/plain": [
       "['features',\n",
       " 'UserId',\n",
       " 'TrackId',\n",
       " 'albumId',\n",
       " 'artistId',\n",
       " 'mean',\n",
       " 'rawPrediction',\n",
       " 'probability',\n",
       " 'prediction']"
      ]
     },
     "execution_count": 203,
     "metadata": {},
     "output_type": "execute_result"
    }
   ],
   "source": [
    "preds_120_dectree.columns"
   ]
  },
  {
   "cell_type": "code",
   "execution_count": 204,
   "metadata": {},
   "outputs": [
    {
     "name": "stdout",
     "output_type": "stream",
     "text": [
      "+------------------+------+-------+-------+--------+----+--------------+--------------------+----------+\n",
      "|          features|UserId|TrackId|albumId|artistId|mean| rawPrediction|         probability|prediction|\n",
      "+------------------+------+-------+-------+--------+----+--------------+--------------------+----------+\n",
      "|         (3,[],[])|199810| 208019|    0.0|     0.0| 0.0|[2775.0,649.0]|[0.81045560747663...|       0.0|\n",
      "|    [0.0,0.0,20.0]|199810|  74139|    0.0|     0.0|20.0|[2775.0,649.0]|[0.81045560747663...|       0.0|\n",
      "|         (3,[],[])|199810|   9903|    0.0|     0.0| 0.0|[2775.0,649.0]|[0.81045560747663...|       0.0|\n",
      "|         (3,[],[])|199810| 242681|    0.0|     0.0| 0.0|[2775.0,649.0]|[0.81045560747663...|       0.0|\n",
      "|    [0.0,70.0,0.0]|199810|  18515|    0.0|    70.0| 0.0|[224.0,2252.0]|[0.09046849757673...|       1.0|\n",
      "|   [0.0,90.0,40.0]|199810| 105760|    0.0|    90.0|40.0|[224.0,2252.0]|[0.09046849757673...|       1.0|\n",
      "|         (3,[],[])|199812| 276940|    0.0|     0.0| 0.0|[2775.0,649.0]|[0.81045560747663...|       0.0|\n",
      "|[100.0,100.0,40.0]|199812| 142408|  100.0|   100.0|40.0|[224.0,2252.0]|[0.09046849757673...|       1.0|\n",
      "|[100.0,100.0,40.0]|199812| 130023|  100.0|   100.0|40.0|[224.0,2252.0]|[0.09046849757673...|       1.0|\n",
      "|    [0.0,0.0,20.0]|199812|  29189|    0.0|     0.0|20.0|[2775.0,649.0]|[0.81045560747663...|       0.0|\n",
      "+------------------+------+-------+-------+--------+----+--------------+--------------------+----------+\n",
      "only showing top 10 rows\n",
      "\n"
     ]
    }
   ],
   "source": [
    "preds_120_dectree.show(10)"
   ]
  },
  {
   "cell_type": "code",
   "execution_count": 205,
   "metadata": {},
   "outputs": [],
   "source": [
    "dectree_answer = preds_120_dectree.select('UserId', 'TrackId', 'prediction')\n",
    "dectree_answer = dectree_answer.toPandas()"
   ]
  },
  {
   "cell_type": "code",
   "execution_count": 206,
   "metadata": {},
   "outputs": [
    {
     "data": {
      "text/html": [
       "<div>\n",
       "<style scoped>\n",
       "    .dataframe tbody tr th:only-of-type {\n",
       "        vertical-align: middle;\n",
       "    }\n",
       "\n",
       "    .dataframe tbody tr th {\n",
       "        vertical-align: top;\n",
       "    }\n",
       "\n",
       "    .dataframe thead th {\n",
       "        text-align: right;\n",
       "    }\n",
       "</style>\n",
       "<table border=\"1\" class=\"dataframe\">\n",
       "  <thead>\n",
       "    <tr style=\"text-align: right;\">\n",
       "      <th></th>\n",
       "      <th>UserId</th>\n",
       "      <th>TrackId</th>\n",
       "      <th>prediction</th>\n",
       "    </tr>\n",
       "  </thead>\n",
       "  <tbody>\n",
       "    <tr>\n",
       "      <th>0</th>\n",
       "      <td>199810</td>\n",
       "      <td>208019</td>\n",
       "      <td>0.0</td>\n",
       "    </tr>\n",
       "    <tr>\n",
       "      <th>1</th>\n",
       "      <td>199810</td>\n",
       "      <td>74139</td>\n",
       "      <td>0.0</td>\n",
       "    </tr>\n",
       "    <tr>\n",
       "      <th>2</th>\n",
       "      <td>199810</td>\n",
       "      <td>9903</td>\n",
       "      <td>0.0</td>\n",
       "    </tr>\n",
       "    <tr>\n",
       "      <th>3</th>\n",
       "      <td>199810</td>\n",
       "      <td>242681</td>\n",
       "      <td>0.0</td>\n",
       "    </tr>\n",
       "    <tr>\n",
       "      <th>4</th>\n",
       "      <td>199810</td>\n",
       "      <td>18515</td>\n",
       "      <td>1.0</td>\n",
       "    </tr>\n",
       "  </tbody>\n",
       "</table>\n",
       "</div>"
      ],
      "text/plain": [
       "   UserId  TrackId  prediction\n",
       "0  199810   208019         0.0\n",
       "1  199810    74139         0.0\n",
       "2  199810     9903         0.0\n",
       "3  199810   242681         0.0\n",
       "4  199810    18515         1.0"
      ]
     },
     "execution_count": 206,
     "metadata": {},
     "output_type": "execute_result"
    }
   ],
   "source": [
    "\n",
    "dectree_answer.head()"
   ]
  },
  {
   "cell_type": "code",
   "execution_count": 207,
   "metadata": {},
   "outputs": [
    {
     "name": "stderr",
     "output_type": "stream",
     "text": [
      "C:\\Users\\Admin\\AppData\\Local\\Temp\\ipykernel_14540\\3086903909.py:2: SettingWithCopyWarning: \n",
      "A value is trying to be set on a copy of a slice from a DataFrame\n",
      "\n",
      "See the caveats in the documentation: https://pandas.pydata.org/pandas-docs/stable/user_guide/indexing.html#returning-a-view-versus-a-copy\n",
      "  dectree_answer['TrackId'][i] = str(dectree_answer['UserId'][i])+'_'+str(dectree_answer['TrackId'][i])\n"
     ]
    }
   ],
   "source": [
    "for i in range(len(dectree_answer)):\n",
    "    dectree_answer['TrackId'][i] = str(dectree_answer['UserId'][i])+'_'+str(dectree_answer['TrackId'][i])"
   ]
  },
  {
   "cell_type": "code",
   "execution_count": 208,
   "metadata": {},
   "outputs": [
    {
     "data": {
      "text/html": [
       "<div>\n",
       "<style scoped>\n",
       "    .dataframe tbody tr th:only-of-type {\n",
       "        vertical-align: middle;\n",
       "    }\n",
       "\n",
       "    .dataframe tbody tr th {\n",
       "        vertical-align: top;\n",
       "    }\n",
       "\n",
       "    .dataframe thead th {\n",
       "        text-align: right;\n",
       "    }\n",
       "</style>\n",
       "<table border=\"1\" class=\"dataframe\">\n",
       "  <thead>\n",
       "    <tr style=\"text-align: right;\">\n",
       "      <th></th>\n",
       "      <th>TrackId</th>\n",
       "      <th>UserId</th>\n",
       "      <th>Predictor</th>\n",
       "    </tr>\n",
       "  </thead>\n",
       "  <tbody>\n",
       "    <tr>\n",
       "      <th>0</th>\n",
       "      <td>199810_208019</td>\n",
       "      <td>199810</td>\n",
       "      <td>0.0</td>\n",
       "    </tr>\n",
       "    <tr>\n",
       "      <th>1</th>\n",
       "      <td>199810_74139</td>\n",
       "      <td>199810</td>\n",
       "      <td>0.0</td>\n",
       "    </tr>\n",
       "    <tr>\n",
       "      <th>2</th>\n",
       "      <td>199810_9903</td>\n",
       "      <td>199810</td>\n",
       "      <td>0.0</td>\n",
       "    </tr>\n",
       "    <tr>\n",
       "      <th>3</th>\n",
       "      <td>199810_242681</td>\n",
       "      <td>199810</td>\n",
       "      <td>0.0</td>\n",
       "    </tr>\n",
       "    <tr>\n",
       "      <th>4</th>\n",
       "      <td>199810_18515</td>\n",
       "      <td>199810</td>\n",
       "      <td>1.0</td>\n",
       "    </tr>\n",
       "  </tbody>\n",
       "</table>\n",
       "</div>"
      ],
      "text/plain": [
       "         TrackId  UserId  Predictor\n",
       "0  199810_208019  199810        0.0\n",
       "1   199810_74139  199810        0.0\n",
       "2    199810_9903  199810        0.0\n",
       "3  199810_242681  199810        0.0\n",
       "4   199810_18515  199810        1.0"
      ]
     },
     "execution_count": 208,
     "metadata": {},
     "output_type": "execute_result"
    }
   ],
   "source": [
    "dectree_answer = dectree_answer[['TrackId', 'UserId', 'prediction']]\n",
    "dectree_answer = dectree_answer.rename(columns={'prediction': 'Predictor'})\n",
    "dectree_answer.head()"
   ]
  },
  {
   "cell_type": "code",
   "execution_count": 209,
   "metadata": {},
   "outputs": [
    {
     "data": {
      "text/html": [
       "<div>\n",
       "<style scoped>\n",
       "    .dataframe tbody tr th:only-of-type {\n",
       "        vertical-align: middle;\n",
       "    }\n",
       "\n",
       "    .dataframe tbody tr th {\n",
       "        vertical-align: top;\n",
       "    }\n",
       "\n",
       "    .dataframe thead th {\n",
       "        text-align: right;\n",
       "    }\n",
       "</style>\n",
       "<table border=\"1\" class=\"dataframe\">\n",
       "  <thead>\n",
       "    <tr style=\"text-align: right;\">\n",
       "      <th></th>\n",
       "      <th>TrackId</th>\n",
       "      <th>Predictor</th>\n",
       "    </tr>\n",
       "  </thead>\n",
       "  <tbody>\n",
       "    <tr>\n",
       "      <th>0</th>\n",
       "      <td>199810_208019</td>\n",
       "      <td>0.0</td>\n",
       "    </tr>\n",
       "    <tr>\n",
       "      <th>1</th>\n",
       "      <td>199810_74139</td>\n",
       "      <td>0.0</td>\n",
       "    </tr>\n",
       "    <tr>\n",
       "      <th>2</th>\n",
       "      <td>199810_9903</td>\n",
       "      <td>0.0</td>\n",
       "    </tr>\n",
       "    <tr>\n",
       "      <th>3</th>\n",
       "      <td>199810_242681</td>\n",
       "      <td>0.0</td>\n",
       "    </tr>\n",
       "    <tr>\n",
       "      <th>4</th>\n",
       "      <td>199810_18515</td>\n",
       "      <td>1.0</td>\n",
       "    </tr>\n",
       "  </tbody>\n",
       "</table>\n",
       "</div>"
      ],
      "text/plain": [
       "         TrackId  Predictor\n",
       "0  199810_208019        0.0\n",
       "1   199810_74139        0.0\n",
       "2    199810_9903        0.0\n",
       "3  199810_242681        0.0\n",
       "4   199810_18515        1.0"
      ]
     },
     "execution_count": 209,
     "metadata": {},
     "output_type": "execute_result"
    }
   ],
   "source": [
    "dectree_answer.drop(columns={'UserId'}, inplace=True)\n",
    "dectree_answer.head()"
   ]
  },
  {
   "cell_type": "code",
   "execution_count": 210,
   "metadata": {},
   "outputs": [],
   "source": [
    "dectree_answer.to_csv('decisionTree_sol1.csv', index=False)"
   ]
  },
  {
   "cell_type": "markdown",
   "metadata": {},
   "source": [
    "Uploading the data from this decision tree gives 85.533% on the leaderboard."
   ]
  },
  {
   "cell_type": "markdown",
   "metadata": {},
   "source": [
    "# c) Using Random Forest"
   ]
  },
  {
   "cell_type": "code",
   "execution_count": 211,
   "metadata": {},
   "outputs": [],
   "source": [
    "from pyspark.ml.classification import RandomForestClassifier\n",
    "\n",
    "randomfor = RandomForestClassifier(featuresCol= 'features', labelCol='Predictor')\n",
    "randomforModel = randomfor.fit(dataframe)"
   ]
  },
  {
   "cell_type": "code",
   "execution_count": 212,
   "metadata": {},
   "outputs": [
    {
     "data": {
      "text/plain": [
       "['features',\n",
       " 'UserId',\n",
       " 'TrackId',\n",
       " 'albumId',\n",
       " 'artistId',\n",
       " 'mean',\n",
       " 'rawPrediction',\n",
       " 'probability',\n",
       " 'prediction']"
      ]
     },
     "execution_count": 212,
     "metadata": {},
     "output_type": "execute_result"
    }
   ],
   "source": [
    "preds_120_randomfor = randomforModel.transform(main_df)\n",
    "preds_120_randomfor.columns"
   ]
  },
  {
   "cell_type": "code",
   "execution_count": 213,
   "metadata": {},
   "outputs": [
    {
     "name": "stdout",
     "output_type": "stream",
     "text": [
      "+------------------+------+-------+-------+--------+----+--------------------+--------------------+----------+\n",
      "|          features|UserId|TrackId|albumId|artistId|mean|       rawPrediction|         probability|prediction|\n",
      "+------------------+------+-------+-------+--------+----+--------------------+--------------------+----------+\n",
      "|         (3,[],[])|199810| 208019|    0.0|     0.0| 0.0|[16.8081911946845...|[0.84040955973422...|       0.0|\n",
      "|    [0.0,0.0,20.0]|199810|  74139|    0.0|     0.0|20.0|[14.7420723558116...|[0.73710361779058...|       0.0|\n",
      "|         (3,[],[])|199810|   9903|    0.0|     0.0| 0.0|[16.8081911946845...|[0.84040955973422...|       0.0|\n",
      "|         (3,[],[])|199810| 242681|    0.0|     0.0| 0.0|[16.8081911946845...|[0.84040955973422...|       0.0|\n",
      "|    [0.0,70.0,0.0]|199810|  18515|    0.0|    70.0| 0.0|[4.53371834815747...|[0.22668591740787...|       1.0|\n",
      "|   [0.0,90.0,40.0]|199810| 105760|    0.0|    90.0|40.0|[3.38100420370437...|[0.16905021018521...|       1.0|\n",
      "|         (3,[],[])|199812| 276940|    0.0|     0.0| 0.0|[16.8081911946845...|[0.84040955973422...|       0.0|\n",
      "|[100.0,100.0,40.0]|199812| 142408|  100.0|   100.0|40.0|[0.49716618959267...|[0.02485830947963...|       1.0|\n",
      "|[100.0,100.0,40.0]|199812| 130023|  100.0|   100.0|40.0|[0.49716618959267...|[0.02485830947963...|       1.0|\n",
      "|    [0.0,0.0,20.0]|199812|  29189|    0.0|     0.0|20.0|[14.7420723558116...|[0.73710361779058...|       0.0|\n",
      "+------------------+------+-------+-------+--------+----+--------------------+--------------------+----------+\n",
      "only showing top 10 rows\n",
      "\n"
     ]
    }
   ],
   "source": [
    "preds_120_randomfor.show(10)"
   ]
  },
  {
   "cell_type": "code",
   "execution_count": 214,
   "metadata": {},
   "outputs": [],
   "source": [
    "randomfor_answer = preds_120_randomfor.select('UserId', 'TrackId', 'prediction')\n",
    "randomfor_answer = randomfor_answer.toPandas()"
   ]
  },
  {
   "cell_type": "code",
   "execution_count": 215,
   "metadata": {},
   "outputs": [
    {
     "data": {
      "text/html": [
       "<div>\n",
       "<style scoped>\n",
       "    .dataframe tbody tr th:only-of-type {\n",
       "        vertical-align: middle;\n",
       "    }\n",
       "\n",
       "    .dataframe tbody tr th {\n",
       "        vertical-align: top;\n",
       "    }\n",
       "\n",
       "    .dataframe thead th {\n",
       "        text-align: right;\n",
       "    }\n",
       "</style>\n",
       "<table border=\"1\" class=\"dataframe\">\n",
       "  <thead>\n",
       "    <tr style=\"text-align: right;\">\n",
       "      <th></th>\n",
       "      <th>UserId</th>\n",
       "      <th>TrackId</th>\n",
       "      <th>prediction</th>\n",
       "    </tr>\n",
       "  </thead>\n",
       "  <tbody>\n",
       "    <tr>\n",
       "      <th>0</th>\n",
       "      <td>199810</td>\n",
       "      <td>208019</td>\n",
       "      <td>0.0</td>\n",
       "    </tr>\n",
       "    <tr>\n",
       "      <th>1</th>\n",
       "      <td>199810</td>\n",
       "      <td>74139</td>\n",
       "      <td>0.0</td>\n",
       "    </tr>\n",
       "    <tr>\n",
       "      <th>2</th>\n",
       "      <td>199810</td>\n",
       "      <td>9903</td>\n",
       "      <td>0.0</td>\n",
       "    </tr>\n",
       "    <tr>\n",
       "      <th>3</th>\n",
       "      <td>199810</td>\n",
       "      <td>242681</td>\n",
       "      <td>0.0</td>\n",
       "    </tr>\n",
       "    <tr>\n",
       "      <th>4</th>\n",
       "      <td>199810</td>\n",
       "      <td>18515</td>\n",
       "      <td>1.0</td>\n",
       "    </tr>\n",
       "  </tbody>\n",
       "</table>\n",
       "</div>"
      ],
      "text/plain": [
       "   UserId  TrackId  prediction\n",
       "0  199810   208019         0.0\n",
       "1  199810    74139         0.0\n",
       "2  199810     9903         0.0\n",
       "3  199810   242681         0.0\n",
       "4  199810    18515         1.0"
      ]
     },
     "execution_count": 215,
     "metadata": {},
     "output_type": "execute_result"
    }
   ],
   "source": [
    "\n",
    "randomfor_answer.head()"
   ]
  },
  {
   "cell_type": "code",
   "execution_count": 216,
   "metadata": {},
   "outputs": [
    {
     "name": "stderr",
     "output_type": "stream",
     "text": [
      "C:\\Users\\Admin\\AppData\\Local\\Temp\\ipykernel_14540\\2544601121.py:2: SettingWithCopyWarning: \n",
      "A value is trying to be set on a copy of a slice from a DataFrame\n",
      "\n",
      "See the caveats in the documentation: https://pandas.pydata.org/pandas-docs/stable/user_guide/indexing.html#returning-a-view-versus-a-copy\n",
      "  randomfor_answer['TrackId'][i] = str(randomfor_answer['UserId'][i])+'_'+str(randomfor_answer['TrackId'][i])\n"
     ]
    }
   ],
   "source": [
    "for i in range(len(randomfor_answer)):\n",
    "    randomfor_answer['TrackId'][i] = str(randomfor_answer['UserId'][i])+'_'+str(randomfor_answer['TrackId'][i])"
   ]
  },
  {
   "cell_type": "code",
   "execution_count": 217,
   "metadata": {},
   "outputs": [
    {
     "data": {
      "text/html": [
       "<div>\n",
       "<style scoped>\n",
       "    .dataframe tbody tr th:only-of-type {\n",
       "        vertical-align: middle;\n",
       "    }\n",
       "\n",
       "    .dataframe tbody tr th {\n",
       "        vertical-align: top;\n",
       "    }\n",
       "\n",
       "    .dataframe thead th {\n",
       "        text-align: right;\n",
       "    }\n",
       "</style>\n",
       "<table border=\"1\" class=\"dataframe\">\n",
       "  <thead>\n",
       "    <tr style=\"text-align: right;\">\n",
       "      <th></th>\n",
       "      <th>TrackId</th>\n",
       "      <th>UserId</th>\n",
       "      <th>Predictor</th>\n",
       "    </tr>\n",
       "  </thead>\n",
       "  <tbody>\n",
       "    <tr>\n",
       "      <th>0</th>\n",
       "      <td>199810_208019</td>\n",
       "      <td>199810</td>\n",
       "      <td>0.0</td>\n",
       "    </tr>\n",
       "    <tr>\n",
       "      <th>1</th>\n",
       "      <td>199810_74139</td>\n",
       "      <td>199810</td>\n",
       "      <td>0.0</td>\n",
       "    </tr>\n",
       "    <tr>\n",
       "      <th>2</th>\n",
       "      <td>199810_9903</td>\n",
       "      <td>199810</td>\n",
       "      <td>0.0</td>\n",
       "    </tr>\n",
       "    <tr>\n",
       "      <th>3</th>\n",
       "      <td>199810_242681</td>\n",
       "      <td>199810</td>\n",
       "      <td>0.0</td>\n",
       "    </tr>\n",
       "    <tr>\n",
       "      <th>4</th>\n",
       "      <td>199810_18515</td>\n",
       "      <td>199810</td>\n",
       "      <td>1.0</td>\n",
       "    </tr>\n",
       "  </tbody>\n",
       "</table>\n",
       "</div>"
      ],
      "text/plain": [
       "         TrackId  UserId  Predictor\n",
       "0  199810_208019  199810        0.0\n",
       "1   199810_74139  199810        0.0\n",
       "2    199810_9903  199810        0.0\n",
       "3  199810_242681  199810        0.0\n",
       "4   199810_18515  199810        1.0"
      ]
     },
     "execution_count": 217,
     "metadata": {},
     "output_type": "execute_result"
    }
   ],
   "source": [
    "randomfor_answer = randomfor_answer[['TrackId', 'UserId', 'prediction']]\n",
    "randomfor_answer = randomfor_answer.rename(columns={'prediction': 'Predictor'})\n",
    "randomfor_answer.head()\n"
   ]
  },
  {
   "cell_type": "code",
   "execution_count": 218,
   "metadata": {},
   "outputs": [
    {
     "data": {
      "text/html": [
       "<div>\n",
       "<style scoped>\n",
       "    .dataframe tbody tr th:only-of-type {\n",
       "        vertical-align: middle;\n",
       "    }\n",
       "\n",
       "    .dataframe tbody tr th {\n",
       "        vertical-align: top;\n",
       "    }\n",
       "\n",
       "    .dataframe thead th {\n",
       "        text-align: right;\n",
       "    }\n",
       "</style>\n",
       "<table border=\"1\" class=\"dataframe\">\n",
       "  <thead>\n",
       "    <tr style=\"text-align: right;\">\n",
       "      <th></th>\n",
       "      <th>TrackId</th>\n",
       "      <th>Predictor</th>\n",
       "    </tr>\n",
       "  </thead>\n",
       "  <tbody>\n",
       "    <tr>\n",
       "      <th>0</th>\n",
       "      <td>199810_208019</td>\n",
       "      <td>0.0</td>\n",
       "    </tr>\n",
       "    <tr>\n",
       "      <th>1</th>\n",
       "      <td>199810_74139</td>\n",
       "      <td>0.0</td>\n",
       "    </tr>\n",
       "    <tr>\n",
       "      <th>2</th>\n",
       "      <td>199810_9903</td>\n",
       "      <td>0.0</td>\n",
       "    </tr>\n",
       "    <tr>\n",
       "      <th>3</th>\n",
       "      <td>199810_242681</td>\n",
       "      <td>0.0</td>\n",
       "    </tr>\n",
       "    <tr>\n",
       "      <th>4</th>\n",
       "      <td>199810_18515</td>\n",
       "      <td>1.0</td>\n",
       "    </tr>\n",
       "  </tbody>\n",
       "</table>\n",
       "</div>"
      ],
      "text/plain": [
       "         TrackId  Predictor\n",
       "0  199810_208019        0.0\n",
       "1   199810_74139        0.0\n",
       "2    199810_9903        0.0\n",
       "3  199810_242681        0.0\n",
       "4   199810_18515        1.0"
      ]
     },
     "execution_count": 218,
     "metadata": {},
     "output_type": "execute_result"
    }
   ],
   "source": [
    "randomfor_answer.drop(columns={'UserId'}, inplace=True)\n",
    "randomfor_answer.head()"
   ]
  },
  {
   "cell_type": "code",
   "execution_count": 219,
   "metadata": {},
   "outputs": [],
   "source": [
    "randomfor_answer.to_csv('randomForest_sol1.csv', index=False)"
   ]
  },
  {
   "cell_type": "markdown",
   "metadata": {},
   "source": [
    "Uploading the data from this random forest gives 85.555% on the leaderboard."
   ]
  },
  {
   "cell_type": "markdown",
   "metadata": {},
   "source": [
    "# d) Using Gradient-Boosted Tree Classifier"
   ]
  },
  {
   "cell_type": "code",
   "execution_count": 220,
   "metadata": {},
   "outputs": [],
   "source": [
    "from pyspark.ml.classification import GBTClassifier\n",
    "\n",
    "gradboosttr = GBTClassifier(featuresCol = 'features', labelCol = 'Predictor', maxIter=10)\n",
    "gradboosttrModel = gradboosttr.fit(dataframe)\n",
    "preds_120_gradboosttr = gradboosttrModel.transform(main_df)"
   ]
  },
  {
   "cell_type": "code",
   "execution_count": 221,
   "metadata": {},
   "outputs": [
    {
     "data": {
      "text/plain": [
       "['features',\n",
       " 'UserId',\n",
       " 'TrackId',\n",
       " 'albumId',\n",
       " 'artistId',\n",
       " 'mean',\n",
       " 'rawPrediction',\n",
       " 'probability',\n",
       " 'prediction']"
      ]
     },
     "execution_count": 221,
     "metadata": {},
     "output_type": "execute_result"
    }
   ],
   "source": [
    "preds_120_gradboosttr.columns"
   ]
  },
  {
   "cell_type": "code",
   "execution_count": 222,
   "metadata": {},
   "outputs": [
    {
     "name": "stdout",
     "output_type": "stream",
     "text": [
      "+------------------+------+-------+-------+--------+----+--------------------+--------------------+----------+\n",
      "|          features|UserId|TrackId|albumId|artistId|mean|       rawPrediction|         probability|prediction|\n",
      "+------------------+------+-------+-------+--------+----+--------------------+--------------------+----------+\n",
      "|         (3,[],[])|199810| 208019|    0.0|     0.0| 0.0|[0.79915491429944...|[0.83178202778998...|       0.0|\n",
      "|    [0.0,0.0,20.0]|199810|  74139|    0.0|     0.0|20.0|[0.47507130654656...|[0.72114385776349...|       0.0|\n",
      "|         (3,[],[])|199810|   9903|    0.0|     0.0| 0.0|[0.79915491429944...|[0.83178202778998...|       0.0|\n",
      "|         (3,[],[])|199810| 242681|    0.0|     0.0| 0.0|[0.79915491429944...|[0.83178202778998...|       0.0|\n",
      "|    [0.0,70.0,0.0]|199810|  18515|    0.0|    70.0| 0.0|[-0.4089993232609...|[0.30618865675571...|       1.0|\n",
      "|   [0.0,90.0,40.0]|199810| 105760|    0.0|    90.0|40.0|[-0.6174299745186...|[0.22533195308553...|       1.0|\n",
      "|         (3,[],[])|199812| 276940|    0.0|     0.0| 0.0|[0.79915491429944...|[0.83178202778998...|       0.0|\n",
      "|[100.0,100.0,40.0]|199812| 142408|  100.0|   100.0|40.0|[-1.3190926843999...|[0.06672094251095...|       1.0|\n",
      "|[100.0,100.0,40.0]|199812| 130023|  100.0|   100.0|40.0|[-1.3190926843999...|[0.06672094251095...|       1.0|\n",
      "|    [0.0,0.0,20.0]|199812|  29189|    0.0|     0.0|20.0|[0.47507130654656...|[0.72114385776349...|       0.0|\n",
      "+------------------+------+-------+-------+--------+----+--------------------+--------------------+----------+\n",
      "only showing top 10 rows\n",
      "\n"
     ]
    }
   ],
   "source": [
    "preds_120_gradboosttr.show(10)"
   ]
  },
  {
   "cell_type": "code",
   "execution_count": 223,
   "metadata": {},
   "outputs": [],
   "source": [
    "gradboosttr_answer = preds_120_gradboosttr.select('UserId', 'TrackId', 'prediction')\n",
    "gradboosttr_answer = gradboosttr_answer.toPandas()"
   ]
  },
  {
   "cell_type": "code",
   "execution_count": 224,
   "metadata": {},
   "outputs": [
    {
     "data": {
      "text/html": [
       "<div>\n",
       "<style scoped>\n",
       "    .dataframe tbody tr th:only-of-type {\n",
       "        vertical-align: middle;\n",
       "    }\n",
       "\n",
       "    .dataframe tbody tr th {\n",
       "        vertical-align: top;\n",
       "    }\n",
       "\n",
       "    .dataframe thead th {\n",
       "        text-align: right;\n",
       "    }\n",
       "</style>\n",
       "<table border=\"1\" class=\"dataframe\">\n",
       "  <thead>\n",
       "    <tr style=\"text-align: right;\">\n",
       "      <th></th>\n",
       "      <th>UserId</th>\n",
       "      <th>TrackId</th>\n",
       "      <th>prediction</th>\n",
       "    </tr>\n",
       "  </thead>\n",
       "  <tbody>\n",
       "    <tr>\n",
       "      <th>0</th>\n",
       "      <td>199810</td>\n",
       "      <td>208019</td>\n",
       "      <td>0.0</td>\n",
       "    </tr>\n",
       "    <tr>\n",
       "      <th>1</th>\n",
       "      <td>199810</td>\n",
       "      <td>74139</td>\n",
       "      <td>0.0</td>\n",
       "    </tr>\n",
       "    <tr>\n",
       "      <th>2</th>\n",
       "      <td>199810</td>\n",
       "      <td>9903</td>\n",
       "      <td>0.0</td>\n",
       "    </tr>\n",
       "    <tr>\n",
       "      <th>3</th>\n",
       "      <td>199810</td>\n",
       "      <td>242681</td>\n",
       "      <td>0.0</td>\n",
       "    </tr>\n",
       "    <tr>\n",
       "      <th>4</th>\n",
       "      <td>199810</td>\n",
       "      <td>18515</td>\n",
       "      <td>1.0</td>\n",
       "    </tr>\n",
       "  </tbody>\n",
       "</table>\n",
       "</div>"
      ],
      "text/plain": [
       "   UserId  TrackId  prediction\n",
       "0  199810   208019         0.0\n",
       "1  199810    74139         0.0\n",
       "2  199810     9903         0.0\n",
       "3  199810   242681         0.0\n",
       "4  199810    18515         1.0"
      ]
     },
     "execution_count": 224,
     "metadata": {},
     "output_type": "execute_result"
    }
   ],
   "source": [
    "\n",
    "gradboosttr_answer.head()"
   ]
  },
  {
   "cell_type": "code",
   "execution_count": 225,
   "metadata": {},
   "outputs": [
    {
     "name": "stderr",
     "output_type": "stream",
     "text": [
      "C:\\Users\\Admin\\AppData\\Local\\Temp\\ipykernel_14540\\2358948251.py:2: SettingWithCopyWarning: \n",
      "A value is trying to be set on a copy of a slice from a DataFrame\n",
      "\n",
      "See the caveats in the documentation: https://pandas.pydata.org/pandas-docs/stable/user_guide/indexing.html#returning-a-view-versus-a-copy\n",
      "  gradboosttr_answer['TrackId'][i] = str(gradboosttr_answer['UserId'][i])+'_'+str(gradboosttr_answer['TrackId'][i])\n"
     ]
    }
   ],
   "source": [
    "for i in range(len(gradboosttr_answer)):\n",
    "    gradboosttr_answer['TrackId'][i] = str(gradboosttr_answer['UserId'][i])+'_'+str(gradboosttr_answer['TrackId'][i])"
   ]
  },
  {
   "cell_type": "code",
   "execution_count": 226,
   "metadata": {},
   "outputs": [
    {
     "data": {
      "text/html": [
       "<div>\n",
       "<style scoped>\n",
       "    .dataframe tbody tr th:only-of-type {\n",
       "        vertical-align: middle;\n",
       "    }\n",
       "\n",
       "    .dataframe tbody tr th {\n",
       "        vertical-align: top;\n",
       "    }\n",
       "\n",
       "    .dataframe thead th {\n",
       "        text-align: right;\n",
       "    }\n",
       "</style>\n",
       "<table border=\"1\" class=\"dataframe\">\n",
       "  <thead>\n",
       "    <tr style=\"text-align: right;\">\n",
       "      <th></th>\n",
       "      <th>TrackId</th>\n",
       "      <th>UserId</th>\n",
       "      <th>Predictor</th>\n",
       "    </tr>\n",
       "  </thead>\n",
       "  <tbody>\n",
       "    <tr>\n",
       "      <th>0</th>\n",
       "      <td>199810_208019</td>\n",
       "      <td>199810</td>\n",
       "      <td>0.0</td>\n",
       "    </tr>\n",
       "    <tr>\n",
       "      <th>1</th>\n",
       "      <td>199810_74139</td>\n",
       "      <td>199810</td>\n",
       "      <td>0.0</td>\n",
       "    </tr>\n",
       "    <tr>\n",
       "      <th>2</th>\n",
       "      <td>199810_9903</td>\n",
       "      <td>199810</td>\n",
       "      <td>0.0</td>\n",
       "    </tr>\n",
       "    <tr>\n",
       "      <th>3</th>\n",
       "      <td>199810_242681</td>\n",
       "      <td>199810</td>\n",
       "      <td>0.0</td>\n",
       "    </tr>\n",
       "    <tr>\n",
       "      <th>4</th>\n",
       "      <td>199810_18515</td>\n",
       "      <td>199810</td>\n",
       "      <td>1.0</td>\n",
       "    </tr>\n",
       "  </tbody>\n",
       "</table>\n",
       "</div>"
      ],
      "text/plain": [
       "         TrackId  UserId  Predictor\n",
       "0  199810_208019  199810        0.0\n",
       "1   199810_74139  199810        0.0\n",
       "2    199810_9903  199810        0.0\n",
       "3  199810_242681  199810        0.0\n",
       "4   199810_18515  199810        1.0"
      ]
     },
     "execution_count": 226,
     "metadata": {},
     "output_type": "execute_result"
    }
   ],
   "source": [
    "gradboosttr_answer = gradboosttr_answer[['TrackId', 'UserId', 'prediction']]\n",
    "gradboosttr_answer = gradboosttr_answer.rename(columns={'prediction': 'Predictor'})\n",
    "gradboosttr_answer.head()"
   ]
  },
  {
   "cell_type": "code",
   "execution_count": 227,
   "metadata": {},
   "outputs": [
    {
     "data": {
      "text/html": [
       "<div>\n",
       "<style scoped>\n",
       "    .dataframe tbody tr th:only-of-type {\n",
       "        vertical-align: middle;\n",
       "    }\n",
       "\n",
       "    .dataframe tbody tr th {\n",
       "        vertical-align: top;\n",
       "    }\n",
       "\n",
       "    .dataframe thead th {\n",
       "        text-align: right;\n",
       "    }\n",
       "</style>\n",
       "<table border=\"1\" class=\"dataframe\">\n",
       "  <thead>\n",
       "    <tr style=\"text-align: right;\">\n",
       "      <th></th>\n",
       "      <th>TrackId</th>\n",
       "      <th>Predictor</th>\n",
       "    </tr>\n",
       "  </thead>\n",
       "  <tbody>\n",
       "    <tr>\n",
       "      <th>0</th>\n",
       "      <td>199810_208019</td>\n",
       "      <td>0.0</td>\n",
       "    </tr>\n",
       "    <tr>\n",
       "      <th>1</th>\n",
       "      <td>199810_74139</td>\n",
       "      <td>0.0</td>\n",
       "    </tr>\n",
       "    <tr>\n",
       "      <th>2</th>\n",
       "      <td>199810_9903</td>\n",
       "      <td>0.0</td>\n",
       "    </tr>\n",
       "    <tr>\n",
       "      <th>3</th>\n",
       "      <td>199810_242681</td>\n",
       "      <td>0.0</td>\n",
       "    </tr>\n",
       "    <tr>\n",
       "      <th>4</th>\n",
       "      <td>199810_18515</td>\n",
       "      <td>1.0</td>\n",
       "    </tr>\n",
       "  </tbody>\n",
       "</table>\n",
       "</div>"
      ],
      "text/plain": [
       "         TrackId  Predictor\n",
       "0  199810_208019        0.0\n",
       "1   199810_74139        0.0\n",
       "2    199810_9903        0.0\n",
       "3  199810_242681        0.0\n",
       "4   199810_18515        1.0"
      ]
     },
     "execution_count": 227,
     "metadata": {},
     "output_type": "execute_result"
    }
   ],
   "source": [
    "gradboosttr_answer.drop(columns={'UserId'}, inplace=True)\n",
    "gradboosttr_answer.head()"
   ]
  },
  {
   "cell_type": "code",
   "execution_count": 228,
   "metadata": {},
   "outputs": [],
   "source": [
    "gradboosttr_answer.to_csv('gradient_Booster_sol1.csv', index=False)"
   ]
  },
  {
   "cell_type": "markdown",
   "metadata": {},
   "source": [
    "Uploading the data from this GBT gives 85.411% on the leaderboard."
   ]
  },
  {
   "cell_type": "code",
   "execution_count": null,
   "metadata": {},
   "outputs": [],
   "source": []
  }
 ],
 "metadata": {
  "kernelspec": {
   "display_name": "Python 3",
   "language": "python",
   "name": "python3"
  },
  "language_info": {
   "codemirror_mode": {
    "name": "ipython",
    "version": 3
   },
   "file_extension": ".py",
   "mimetype": "text/x-python",
   "name": "python",
   "nbconvert_exporter": "python",
   "pygments_lexer": "ipython3",
   "version": "3.8.5"
  }
 },
 "nbformat": 4,
 "nbformat_minor": 4
}
